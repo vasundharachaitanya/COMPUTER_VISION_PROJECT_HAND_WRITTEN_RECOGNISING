{
 "cells": [
  {
   "cell_type": "code",
   "execution_count": 1,
   "id": "e6dae614",
   "metadata": {},
   "outputs": [],
   "source": [
    "# import required libraries\n",
    "import pandas as pd\n",
    "from PIL import Image\n",
    "import time\n",
    "import warnings\n",
    "warnings.filterwarnings('ignore') "
   ]
  },
  {
   "cell_type": "code",
   "execution_count": 2,
   "id": "c077af41",
   "metadata": {},
   "outputs": [],
   "source": [
    "image_path = r\"C:\\Users\\sss\\Desktop\\mnist.zip\""
   ]
  },
  {
   "cell_type": "code",
   "execution_count": 3,
   "id": "0d30cdbc",
   "metadata": {},
   "outputs": [],
   "source": [
    "# extracting the zip file\n",
    "from zipfile import ZipFile\n",
    "with ZipFile(image_path, 'r') as zipObj:\n",
    "#Extract all the contents of zip file in current directory\n",
    "     zipObj.extractall(r'C:\\Users\\sss\\Desktop\\mnist') "
   ]
  },
  {
   "cell_type": "code",
   "execution_count": 4,
   "id": "84b5fc17",
   "metadata": {},
   "outputs": [
    {
     "name": "stdout",
     "output_type": "stream",
     "text": [
      "   pixel_0  pixel_1  pixel_2  pixel_3  pixel_4  pixel_5  pixel_6  pixel_7  \\\n",
      "0        0        0        0        0        0        0        0        0   \n",
      "1        0        0        0        0        0        0        0        0   \n",
      "2        0        0        0        0        0        0        0        0   \n",
      "3        0        0        0        0        0        0        0        0   \n",
      "4        0        0        0        0        0        0        0        0   \n",
      "\n",
      "   pixel_8  pixel_9  ...  pixel_775  pixel_776  pixel_777  pixel_778  \\\n",
      "0        0        0  ...          0          0          0          0   \n",
      "1        0        0  ...          0          0          0          0   \n",
      "2        0        0  ...          0          0          0          0   \n",
      "3        0        0  ...          0          0          0          0   \n",
      "4        0        0  ...          0          0          0          0   \n",
      "\n",
      "   pixel_779  pixel_780  pixel_781  pixel_782  pixel_783  Label  \n",
      "0          0          0          0          0          0      A  \n",
      "1          0          0          0          0          0      A  \n",
      "2          0          0          0          0          0      A  \n",
      "3          0          0          0          0          0      A  \n",
      "4          0          0          0          0          0      A  \n",
      "\n",
      "[5 rows x 785 columns]\n"
     ]
    }
   ],
   "source": [
    "import os\n",
    "import pandas as pd\n",
    "import numpy as np\n",
    "from PIL import Image\n",
    "\n",
    "def load_mnist_data(data_folder):\n",
    "    data = []\n",
    "    labels = []\n",
    "\n",
    "    for root, _, files in os.walk(data_folder):\n",
    "        for file in files:\n",
    "            if file.endswith(\".png\"):\n",
    "                image_path = os.path.join(root, file)\n",
    "                try:\n",
    "                    with Image.open(image_path) as image:\n",
    "                        # Convert the image to grayscale and then to a numpy array\n",
    "                        img_array = np.array(image.convert('L'), dtype='uint8')\n",
    "                        # Check if the image has non-zero pixel values\n",
    "                        if np.any(img_array != 0):\n",
    "                            data.append(img_array.ravel())  # Flatten the image using ravel()\n",
    "                            label = os.path.basename(os.path.dirname(image_path))\n",
    "                            labels.append(label)\n",
    "                except Exception as e:\n",
    "                    print(f\"Error processing image {image_path}: {e}\")\n",
    "\n",
    "    return data, labels\n",
    "\n",
    "data, labels = load_mnist_data(r'C:\\Users\\sss\\Desktop\\mnist')\n",
    "\n",
    "# Convert the list of pixel arrays to a numpy array\n",
    "data_array = np.array(data)\n",
    "\n",
    "# Round the float values in the numpy array to the nearest integer\n",
    "data_array = np.round(data_array)\n",
    "\n",
    "# Create a new dataframe with columns based on the number of pixels in the flattened image\n",
    "pixels_df = pd.DataFrame(data_array, columns=[f'pixel_{i}' for i in range(len(data_array[0]))])\n",
    "\n",
    "# Create the final dataframe with the 'Label' column\n",
    "mnist_df = pd.concat([pixels_df, pd.Series(labels, name='Label')], axis=1)\n",
    "\n",
    "# Display the vectorized image dataframe\n",
    "print(mnist_df.head())\n"
   ]
  },
  {
   "cell_type": "code",
   "execution_count": 5,
   "id": "d769c4a8",
   "metadata": {},
   "outputs": [],
   "source": [
    "# converting extracted file to csv\n",
    "#mnist_df.to_csv(\"CV_DATA.csv\",index=False) "
   ]
  },
  {
   "cell_type": "code",
   "execution_count": 2,
   "id": "17cd5d3a",
   "metadata": {},
   "outputs": [],
   "source": [
    "# coverting the csv file to Dataframe\n",
    "df = pd.read_csv(r\"C:/Users/sss/Desktop/CV_DATA.csv\") "
   ]
  },
  {
   "cell_type": "code",
   "execution_count": 3,
   "id": "afe72111",
   "metadata": {},
   "outputs": [
    {
     "data": {
      "text/html": [
       "<div>\n",
       "<style scoped>\n",
       "    .dataframe tbody tr th:only-of-type {\n",
       "        vertical-align: middle;\n",
       "    }\n",
       "\n",
       "    .dataframe tbody tr th {\n",
       "        vertical-align: top;\n",
       "    }\n",
       "\n",
       "    .dataframe thead th {\n",
       "        text-align: right;\n",
       "    }\n",
       "</style>\n",
       "<table border=\"1\" class=\"dataframe\">\n",
       "  <thead>\n",
       "    <tr style=\"text-align: right;\">\n",
       "      <th></th>\n",
       "      <th>pixel_0</th>\n",
       "      <th>pixel_1</th>\n",
       "      <th>pixel_2</th>\n",
       "      <th>pixel_3</th>\n",
       "      <th>pixel_4</th>\n",
       "      <th>pixel_5</th>\n",
       "      <th>pixel_6</th>\n",
       "      <th>pixel_7</th>\n",
       "      <th>pixel_8</th>\n",
       "      <th>pixel_9</th>\n",
       "      <th>...</th>\n",
       "      <th>pixel_775</th>\n",
       "      <th>pixel_776</th>\n",
       "      <th>pixel_777</th>\n",
       "      <th>pixel_778</th>\n",
       "      <th>pixel_779</th>\n",
       "      <th>pixel_780</th>\n",
       "      <th>pixel_781</th>\n",
       "      <th>pixel_782</th>\n",
       "      <th>pixel_783</th>\n",
       "      <th>Label</th>\n",
       "    </tr>\n",
       "  </thead>\n",
       "  <tbody>\n",
       "    <tr>\n",
       "      <th>0</th>\n",
       "      <td>0</td>\n",
       "      <td>0</td>\n",
       "      <td>0</td>\n",
       "      <td>0</td>\n",
       "      <td>0</td>\n",
       "      <td>0</td>\n",
       "      <td>0</td>\n",
       "      <td>0</td>\n",
       "      <td>0</td>\n",
       "      <td>0</td>\n",
       "      <td>...</td>\n",
       "      <td>0</td>\n",
       "      <td>0</td>\n",
       "      <td>0</td>\n",
       "      <td>0</td>\n",
       "      <td>0</td>\n",
       "      <td>0</td>\n",
       "      <td>0</td>\n",
       "      <td>0</td>\n",
       "      <td>0</td>\n",
       "      <td>A</td>\n",
       "    </tr>\n",
       "    <tr>\n",
       "      <th>1</th>\n",
       "      <td>0</td>\n",
       "      <td>0</td>\n",
       "      <td>0</td>\n",
       "      <td>0</td>\n",
       "      <td>0</td>\n",
       "      <td>0</td>\n",
       "      <td>0</td>\n",
       "      <td>0</td>\n",
       "      <td>0</td>\n",
       "      <td>0</td>\n",
       "      <td>...</td>\n",
       "      <td>0</td>\n",
       "      <td>0</td>\n",
       "      <td>0</td>\n",
       "      <td>0</td>\n",
       "      <td>0</td>\n",
       "      <td>0</td>\n",
       "      <td>0</td>\n",
       "      <td>0</td>\n",
       "      <td>0</td>\n",
       "      <td>A</td>\n",
       "    </tr>\n",
       "    <tr>\n",
       "      <th>2</th>\n",
       "      <td>0</td>\n",
       "      <td>0</td>\n",
       "      <td>0</td>\n",
       "      <td>0</td>\n",
       "      <td>0</td>\n",
       "      <td>0</td>\n",
       "      <td>0</td>\n",
       "      <td>0</td>\n",
       "      <td>0</td>\n",
       "      <td>0</td>\n",
       "      <td>...</td>\n",
       "      <td>0</td>\n",
       "      <td>0</td>\n",
       "      <td>0</td>\n",
       "      <td>0</td>\n",
       "      <td>0</td>\n",
       "      <td>0</td>\n",
       "      <td>0</td>\n",
       "      <td>0</td>\n",
       "      <td>0</td>\n",
       "      <td>A</td>\n",
       "    </tr>\n",
       "    <tr>\n",
       "      <th>3</th>\n",
       "      <td>0</td>\n",
       "      <td>0</td>\n",
       "      <td>0</td>\n",
       "      <td>0</td>\n",
       "      <td>0</td>\n",
       "      <td>0</td>\n",
       "      <td>0</td>\n",
       "      <td>0</td>\n",
       "      <td>0</td>\n",
       "      <td>0</td>\n",
       "      <td>...</td>\n",
       "      <td>0</td>\n",
       "      <td>0</td>\n",
       "      <td>0</td>\n",
       "      <td>0</td>\n",
       "      <td>0</td>\n",
       "      <td>0</td>\n",
       "      <td>0</td>\n",
       "      <td>0</td>\n",
       "      <td>0</td>\n",
       "      <td>A</td>\n",
       "    </tr>\n",
       "    <tr>\n",
       "      <th>4</th>\n",
       "      <td>0</td>\n",
       "      <td>0</td>\n",
       "      <td>0</td>\n",
       "      <td>0</td>\n",
       "      <td>0</td>\n",
       "      <td>0</td>\n",
       "      <td>0</td>\n",
       "      <td>0</td>\n",
       "      <td>0</td>\n",
       "      <td>0</td>\n",
       "      <td>...</td>\n",
       "      <td>0</td>\n",
       "      <td>0</td>\n",
       "      <td>0</td>\n",
       "      <td>0</td>\n",
       "      <td>0</td>\n",
       "      <td>0</td>\n",
       "      <td>0</td>\n",
       "      <td>0</td>\n",
       "      <td>0</td>\n",
       "      <td>A</td>\n",
       "    </tr>\n",
       "  </tbody>\n",
       "</table>\n",
       "<p>5 rows × 785 columns</p>\n",
       "</div>"
      ],
      "text/plain": [
       "   pixel_0  pixel_1  pixel_2  pixel_3  pixel_4  pixel_5  pixel_6  pixel_7  \\\n",
       "0        0        0        0        0        0        0        0        0   \n",
       "1        0        0        0        0        0        0        0        0   \n",
       "2        0        0        0        0        0        0        0        0   \n",
       "3        0        0        0        0        0        0        0        0   \n",
       "4        0        0        0        0        0        0        0        0   \n",
       "\n",
       "   pixel_8  pixel_9  ...  pixel_775  pixel_776  pixel_777  pixel_778  \\\n",
       "0        0        0  ...          0          0          0          0   \n",
       "1        0        0  ...          0          0          0          0   \n",
       "2        0        0  ...          0          0          0          0   \n",
       "3        0        0  ...          0          0          0          0   \n",
       "4        0        0  ...          0          0          0          0   \n",
       "\n",
       "   pixel_779  pixel_780  pixel_781  pixel_782  pixel_783  Label  \n",
       "0          0          0          0          0          0      A  \n",
       "1          0          0          0          0          0      A  \n",
       "2          0          0          0          0          0      A  \n",
       "3          0          0          0          0          0      A  \n",
       "4          0          0          0          0          0      A  \n",
       "\n",
       "[5 rows x 785 columns]"
      ]
     },
     "execution_count": 3,
     "metadata": {},
     "output_type": "execute_result"
    }
   ],
   "source": [
    "df.head() "
   ]
  },
  {
   "cell_type": "code",
   "execution_count": 4,
   "id": "60e47133",
   "metadata": {},
   "outputs": [
    {
     "data": {
      "text/plain": [
       "(372451, 785)"
      ]
     },
     "execution_count": 4,
     "metadata": {},
     "output_type": "execute_result"
    }
   ],
   "source": [
    "# getting the shape of the dataframe\n",
    "df.shape"
   ]
  },
  {
   "cell_type": "code",
   "execution_count": 5,
   "id": "fe47e558",
   "metadata": {},
   "outputs": [
    {
     "data": {
      "text/plain": [
       "Label\n",
       "O    57825\n",
       "S    48419\n",
       "U    29008\n",
       "C    23409\n",
       "T    22495\n",
       "P    19341\n",
       "N    19010\n",
       "A    13870\n",
       "M    12336\n",
       "L    11586\n",
       "R    11566\n",
       "E    11440\n",
       "Y    10859\n",
       "W    10784\n",
       "D    10134\n",
       "B     8668\n",
       "J     8493\n",
       "H     7218\n",
       "X     6272\n",
       "Z     6076\n",
       "Q     5812\n",
       "G     5762\n",
       "K     5603\n",
       "V     4182\n",
       "F     1163\n",
       "I     1120\n",
       "Name: count, dtype: int64"
      ]
     },
     "execution_count": 5,
     "metadata": {},
     "output_type": "execute_result"
    }
   ],
   "source": [
    "# getting value counts of Label\n",
    "df.Label.value_counts()"
   ]
  },
  {
   "cell_type": "code",
   "execution_count": 6,
   "id": "70dd7ddb",
   "metadata": {},
   "outputs": [
    {
     "data": {
      "text/plain": [
       "<Axes: xlabel='Label', ylabel='count'>"
      ]
     },
     "execution_count": 6,
     "metadata": {},
     "output_type": "execute_result"
    },
    {
     "data": {
      "image/png": "[encoded data removed]",
      "text/plain": [
       "<Figure size 640x480 with 1 Axes>"
      ]
     },
     "metadata": {},
     "output_type": "display_data"
    }
   ],
   "source": [
    "# countplot for Label column\n",
    "import seaborn as sns \n",
    "sns.countplot(data=df, x='Label')"
   ]
  },
  {
   "cell_type": "markdown",
   "id": "a9822ba6",
   "metadata": {},
   "source": [
    "## Seperating input and output"
   ]
  },
  {
   "cell_type": "code",
   "execution_count": 7,
   "id": "ab97ecc0",
   "metadata": {},
   "outputs": [],
   "source": [
    "#input variables\n",
    "X = df.drop('Label', axis=1)\n",
    "#output variable\n",
    "y = df['Label'] "
   ]
  },
  {
   "cell_type": "code",
   "execution_count": 8,
   "id": "631d797f",
   "metadata": {},
   "outputs": [
    {
     "data": {
      "text/html": [
       "<div>\n",
       "<style scoped>\n",
       "    .dataframe tbody tr th:only-of-type {\n",
       "        vertical-align: middle;\n",
       "    }\n",
       "\n",
       "    .dataframe tbody tr th {\n",
       "        vertical-align: top;\n",
       "    }\n",
       "\n",
       "    .dataframe thead th {\n",
       "        text-align: right;\n",
       "    }\n",
       "</style>\n",
       "<table border=\"1\" class=\"dataframe\">\n",
       "  <thead>\n",
       "    <tr style=\"text-align: right;\">\n",
       "      <th></th>\n",
       "      <th>pixel_0</th>\n",
       "      <th>pixel_1</th>\n",
       "      <th>pixel_2</th>\n",
       "      <th>pixel_3</th>\n",
       "      <th>pixel_4</th>\n",
       "      <th>pixel_5</th>\n",
       "      <th>pixel_6</th>\n",
       "      <th>pixel_7</th>\n",
       "      <th>pixel_8</th>\n",
       "      <th>pixel_9</th>\n",
       "      <th>...</th>\n",
       "      <th>pixel_774</th>\n",
       "      <th>pixel_775</th>\n",
       "      <th>pixel_776</th>\n",
       "      <th>pixel_777</th>\n",
       "      <th>pixel_778</th>\n",
       "      <th>pixel_779</th>\n",
       "      <th>pixel_780</th>\n",
       "      <th>pixel_781</th>\n",
       "      <th>pixel_782</th>\n",
       "      <th>pixel_783</th>\n",
       "    </tr>\n",
       "  </thead>\n",
       "  <tbody>\n",
       "    <tr>\n",
       "      <th>0</th>\n",
       "      <td>0</td>\n",
       "      <td>0</td>\n",
       "      <td>0</td>\n",
       "      <td>0</td>\n",
       "      <td>0</td>\n",
       "      <td>0</td>\n",
       "      <td>0</td>\n",
       "      <td>0</td>\n",
       "      <td>0</td>\n",
       "      <td>0</td>\n",
       "      <td>...</td>\n",
       "      <td>0</td>\n",
       "      <td>0</td>\n",
       "      <td>0</td>\n",
       "      <td>0</td>\n",
       "      <td>0</td>\n",
       "      <td>0</td>\n",
       "      <td>0</td>\n",
       "      <td>0</td>\n",
       "      <td>0</td>\n",
       "      <td>0</td>\n",
       "    </tr>\n",
       "    <tr>\n",
       "      <th>1</th>\n",
       "      <td>0</td>\n",
       "      <td>0</td>\n",
       "      <td>0</td>\n",
       "      <td>0</td>\n",
       "      <td>0</td>\n",
       "      <td>0</td>\n",
       "      <td>0</td>\n",
       "      <td>0</td>\n",
       "      <td>0</td>\n",
       "      <td>0</td>\n",
       "      <td>...</td>\n",
       "      <td>0</td>\n",
       "      <td>0</td>\n",
       "      <td>0</td>\n",
       "      <td>0</td>\n",
       "      <td>0</td>\n",
       "      <td>0</td>\n",
       "      <td>0</td>\n",
       "      <td>0</td>\n",
       "      <td>0</td>\n",
       "      <td>0</td>\n",
       "    </tr>\n",
       "    <tr>\n",
       "      <th>2</th>\n",
       "      <td>0</td>\n",
       "      <td>0</td>\n",
       "      <td>0</td>\n",
       "      <td>0</td>\n",
       "      <td>0</td>\n",
       "      <td>0</td>\n",
       "      <td>0</td>\n",
       "      <td>0</td>\n",
       "      <td>0</td>\n",
       "      <td>0</td>\n",
       "      <td>...</td>\n",
       "      <td>0</td>\n",
       "      <td>0</td>\n",
       "      <td>0</td>\n",
       "      <td>0</td>\n",
       "      <td>0</td>\n",
       "      <td>0</td>\n",
       "      <td>0</td>\n",
       "      <td>0</td>\n",
       "      <td>0</td>\n",
       "      <td>0</td>\n",
       "    </tr>\n",
       "    <tr>\n",
       "      <th>3</th>\n",
       "      <td>0</td>\n",
       "      <td>0</td>\n",
       "      <td>0</td>\n",
       "      <td>0</td>\n",
       "      <td>0</td>\n",
       "      <td>0</td>\n",
       "      <td>0</td>\n",
       "      <td>0</td>\n",
       "      <td>0</td>\n",
       "      <td>0</td>\n",
       "      <td>...</td>\n",
       "      <td>0</td>\n",
       "      <td>0</td>\n",
       "      <td>0</td>\n",
       "      <td>0</td>\n",
       "      <td>0</td>\n",
       "      <td>0</td>\n",
       "      <td>0</td>\n",
       "      <td>0</td>\n",
       "      <td>0</td>\n",
       "      <td>0</td>\n",
       "    </tr>\n",
       "    <tr>\n",
       "      <th>4</th>\n",
       "      <td>0</td>\n",
       "      <td>0</td>\n",
       "      <td>0</td>\n",
       "      <td>0</td>\n",
       "      <td>0</td>\n",
       "      <td>0</td>\n",
       "      <td>0</td>\n",
       "      <td>0</td>\n",
       "      <td>0</td>\n",
       "      <td>0</td>\n",
       "      <td>...</td>\n",
       "      <td>0</td>\n",
       "      <td>0</td>\n",
       "      <td>0</td>\n",
       "      <td>0</td>\n",
       "      <td>0</td>\n",
       "      <td>0</td>\n",
       "      <td>0</td>\n",
       "      <td>0</td>\n",
       "      <td>0</td>\n",
       "      <td>0</td>\n",
       "    </tr>\n",
       "  </tbody>\n",
       "</table>\n",
       "<p>5 rows × 784 columns</p>\n",
       "</div>"
      ],
      "text/plain": [
       "   pixel_0  pixel_1  pixel_2  pixel_3  pixel_4  pixel_5  pixel_6  pixel_7  \\\n",
       "0        0        0        0        0        0        0        0        0   \n",
       "1        0        0        0        0        0        0        0        0   \n",
       "2        0        0        0        0        0        0        0        0   \n",
       "3        0        0        0        0        0        0        0        0   \n",
       "4        0        0        0        0        0        0        0        0   \n",
       "\n",
       "   pixel_8  pixel_9  ...  pixel_774  pixel_775  pixel_776  pixel_777  \\\n",
       "0        0        0  ...          0          0          0          0   \n",
       "1        0        0  ...          0          0          0          0   \n",
       "2        0        0  ...          0          0          0          0   \n",
       "3        0        0  ...          0          0          0          0   \n",
       "4        0        0  ...          0          0          0          0   \n",
       "\n",
       "   pixel_778  pixel_779  pixel_780  pixel_781  pixel_782  pixel_783  \n",
       "0          0          0          0          0          0          0  \n",
       "1          0          0          0          0          0          0  \n",
       "2          0          0          0          0          0          0  \n",
       "3          0          0          0          0          0          0  \n",
       "4          0          0          0          0          0          0  \n",
       "\n",
       "[5 rows x 784 columns]"
      ]
     },
     "execution_count": 8,
     "metadata": {},
     "output_type": "execute_result"
    }
   ],
   "source": [
    "X.head() "
   ]
  },
  {
   "cell_type": "code",
   "execution_count": 9,
   "id": "da94e6c8",
   "metadata": {},
   "outputs": [
    {
     "data": {
      "text/plain": [
       "0    A\n",
       "1    A\n",
       "2    A\n",
       "3    A\n",
       "4    A\n",
       "Name: Label, dtype: object"
      ]
     },
     "execution_count": 9,
     "metadata": {},
     "output_type": "execute_result"
    }
   ],
   "source": [
    "y.head() "
   ]
  },
  {
   "cell_type": "code",
   "execution_count": 10,
   "id": "f221ea7a",
   "metadata": {},
   "outputs": [
    {
     "name": "stdout",
     "output_type": "stream",
     "text": [
      "[268872 102635 364590  12213 206920 351030 324001 187741  70150]\n"
     ]
    }
   ],
   "source": [
    "import numpy as np \n",
    "idx = np.random.randint(0, 372450, 9)\n",
    "\n",
    "print(idx) "
   ]
  },
  {
   "cell_type": "code",
   "execution_count": 11,
   "id": "04e692bb",
   "metadata": {},
   "outputs": [
    {
     "data": {
      "text/plain": [
       "206920"
      ]
     },
     "execution_count": 11,
     "metadata": {},
     "output_type": "execute_result"
    }
   ],
   "source": [
    "idx[4] "
   ]
  },
  {
   "cell_type": "code",
   "execution_count": 12,
   "id": "29e8e057",
   "metadata": {},
   "outputs": [
    {
     "data": {
      "text/plain": [
       "'P'"
      ]
     },
     "execution_count": 12,
     "metadata": {},
     "output_type": "execute_result"
    }
   ],
   "source": [
    "y[idx[4]] "
   ]
  },
  {
   "cell_type": "code",
   "execution_count": 13,
   "id": "58c09121",
   "metadata": {},
   "outputs": [
    {
     "name": "stdout",
     "output_type": "stream",
     "text": [
      "P\n",
      "[[  0   0   0   0   0   0   0   0   0   0   0   0   0   0   0   0   0   0\n",
      "    0   0   0   0   0   0   0   0   0   0]\n",
      " [  0   0   0   0   0   0   0   0   0   0   0   0   0   0   0   0   0   0\n",
      "    0   0   0   0   0   0   0   0   0   0]\n",
      " [  0   0   0   0   0   0   0   0   0   0   0   0   0   0   0   0   0   0\n",
      "    0   0   0   0   0   0   0   0   0   0]\n",
      " [  0   0   0   0   0   0   0   0   0   0   0   0   0   0   0   0   0   0\n",
      "    0   0   0   0   0   0   0   0   0   0]\n",
      " [  0   0   0   0   0   0 135 234 255 255 255 255 255 255 242 204 151  98\n",
      "   44   4   0   0   0   0   0   0   0   0]\n",
      " [  0   0   0   0   0   0 198 255 209 167 156 156 156 156 182 223 241 248\n",
      "  247 191  75   4   0   0   0   0   0   0]\n",
      " [  0   0   0   0   0   0 198 255  91   7   0   0   0   0   0   0   9  48\n",
      "  142 244 220  94   0   0   0   0   0   0]\n",
      " [  0   0   0   0   0   0 138 235 122  22   0   0   0   0   0   0   0   0\n",
      "    6  89 250 184   0   0   0   0   0   0]\n",
      " [  0   0   0   0   0   0  66 211 164  42   0   0   0   0   0   0   0   0\n",
      "    0  76 255 198   0   0   0   0   0   0]\n",
      " [  0   0   0   0   0   0  87 218 195  57   0   0   0   0   0   0   0   0\n",
      "    5  87 255 198   0   0   0   0   0   0]\n",
      " [  0   0   0   0   0   0  66 211 195  57   0   0   0   0   0   0   0   0\n",
      "   50 182 231 126   0   0   0   0   0   0]\n",
      " [  0   0   0   0   0   0  66 211 249  82   0   0   0   0   0   0   0  18\n",
      "  118 255 198  28   0   0   0   0   0   0]\n",
      " [  0   0   0   0   0   0  26 197 255  85   0   0   0   0   0   0  10 106\n",
      "  248 225 114   0   0   0   0   0   0   0]\n",
      " [  0   0   0   0   0   0   0 189 255  85   0   0   0   0   0  49 167 252\n",
      "  218 102   0   0   0   0   0   0   0   0]\n",
      " [  0   0   0   0   0   0 156 241 255 109  18   8  54 105 171 240 253 198\n",
      "   73   0   0   0   0   0   0   0   0   0]\n",
      " [  0   0   0   0   0   0 198 255 255 255 255 255 255 255 247 202 103  16\n",
      "    0   0   0   0   0   0   0   0   0   0]\n",
      " [  0   0   0   0   0   0 121 229 255 184 148 148 102  66  34   0   0   0\n",
      "    0   0   0   0   0   0   0   0   0   0]\n",
      " [  0   0   0   0   0   0  15 194 255 180  53   0   0   0   0   0   0   0\n",
      "    0   0   0   0   0   0   0   0   0   0]\n",
      " [  0   0   0   0   0   0   0 189 255 182  54   0   0   0   0   0   0   0\n",
      "    0   0   0   0   0   0   0   0   0   0]\n",
      " [  0   0   0   0   0   0   0 189 255 142  32   0   0   0   0   0   0   0\n",
      "    0   0   0   0   0   0   0   0   0   0]\n",
      " [  0   0   0   0   0   0   0 189 255 142  32   0   0   0   0   0   0   0\n",
      "    0   0   0   0   0   0   0   0   0   0]\n",
      " [  0   0   0   0   0   0   0 173 248 174  50   0   0   0   0   0   0   0\n",
      "    0   0   0   0   0   0   0   0   0   0]\n",
      " [  0   0   0   0   0   0   0 126 230 198  63   0   0   0   0   0   0   0\n",
      "    0   0   0   0   0   0   0   0   0   0]\n",
      " [  0   0   0   0   0   0   0  65 206 162  43   0   0   0   0   0   0   0\n",
      "    0   0   0   0   0   0   0   0   0   0]\n",
      " [  0   0   0   0   0   0   0   0   0   0   0   0   0   0   0   0   0   0\n",
      "    0   0   0   0   0   0   0   0   0   0]\n",
      " [  0   0   0   0   0   0   0   0   0   0   0   0   0   0   0   0   0   0\n",
      "    0   0   0   0   0   0   0   0   0   0]\n",
      " [  0   0   0   0   0   0   0   0   0   0   0   0   0   0   0   0   0   0\n",
      "    0   0   0   0   0   0   0   0   0   0]\n",
      " [  0   0   0   0   0   0   0   0   0   0   0   0   0   0   0   0   0   0\n",
      "    0   0   0   0   0   0   0   0   0   0]]\n"
     ]
    }
   ],
   "source": [
    "print(y[idx[4]])\n",
    "\n",
    "print(np.reshape(X.values[idx[4]], (28,28)))\n",
    "\n",
    "img = np.reshape(X.values[idx[4]], (28,28))"
   ]
  },
  {
   "cell_type": "code",
   "execution_count": 14,
   "id": "b18717a5",
   "metadata": {},
   "outputs": [
    {
     "data": {
      "text/plain": [
       "<matplotlib.image.AxesImage at 0x2923de51820>"
      ]
     },
     "execution_count": 14,
     "metadata": {},
     "output_type": "execute_result"
    },
    {
     "data": {
      "image/png": "[encoded data removed]",
      "text/plain": [
       "<Figure size 640x480 with 1 Axes>"
      ]
     },
     "metadata": {},
     "output_type": "display_data"
    }
   ],
   "source": [
    "import matplotlib.pyplot as plt \n",
    "plt.imshow(img) "
   ]
  },
  {
   "cell_type": "code",
   "execution_count": 15,
   "id": "6de4295a",
   "metadata": {},
   "outputs": [
    {
     "data": {
      "image/png": "[encoded data removed]",
      "text/plain": [
       "<Figure size 1200x1200 with 9 Axes>"
      ]
     },
     "metadata": {},
     "output_type": "display_data"
    }
   ],
   "source": [
    "plt.figure(figsize=(12, 12))\n",
    "idx = np.random.randint(0, 372450, 9)\n",
    "\n",
    "for i in range(len(idx)):\n",
    "    plt.subplot(3, 3, i+1)\n",
    "    plt.title(y[idx[i]])\n",
    "    img_grid = np.reshape(X.values[idx[i]], (28,28))\n",
    "    plt.imshow(img_grid) "
   ]
  },
  {
   "cell_type": "markdown",
   "id": "1e818f9e",
   "metadata": {},
   "source": [
    "## Split the data to train and test"
   ]
  },
  {
   "cell_type": "code",
   "execution_count": 16,
   "id": "dc6fab36",
   "metadata": {},
   "outputs": [],
   "source": [
    "from sklearn.model_selection import train_test_split\n",
    "X_train, X_test, y_train, y_test = train_test_split(X, y, test_size=0.25, random_state=0) "
   ]
  },
  {
   "cell_type": "code",
   "execution_count": 17,
   "id": "55e74f2f",
   "metadata": {},
   "outputs": [
    {
     "data": {
      "text/plain": [
       "(279338, 784)"
      ]
     },
     "execution_count": 17,
     "metadata": {},
     "output_type": "execute_result"
    }
   ],
   "source": [
    "X_train.shape"
   ]
  },
  {
   "cell_type": "code",
   "execution_count": 18,
   "id": "a9d5c492",
   "metadata": {},
   "outputs": [
    {
     "data": {
      "text/plain": [
       "(93113, 784)"
      ]
     },
     "execution_count": 18,
     "metadata": {},
     "output_type": "execute_result"
    }
   ],
   "source": [
    "X_test.shape  "
   ]
  },
  {
   "cell_type": "markdown",
   "id": "eba68e45",
   "metadata": {},
   "source": [
    "## Model Training & Evaluation"
   ]
  },
  {
   "cell_type": "markdown",
   "id": "a8dfeaa0",
   "metadata": {},
   "source": [
    "### Logistic Regression"
   ]
  },
  {
   "cell_type": "code",
   "execution_count": 19,
   "id": "1344ecba",
   "metadata": {},
   "outputs": [
    {
     "data": {
      "text/plain": [
       "LogisticRegression()"
      ]
     },
     "execution_count": 19,
     "metadata": {},
     "output_type": "execute_result"
    }
   ],
   "source": [
    "from sklearn.linear_model import LogisticRegression\n",
    "Logistic_Model = LogisticRegression()\n",
    "Logistic_Model.fit(X_train, y_train)  "
   ]
  },
  {
   "cell_type": "code",
   "execution_count": 20,
   "id": "35ee9ac2",
   "metadata": {},
   "outputs": [
    {
     "name": "stdout",
     "output_type": "stream",
     "text": [
      "Prediction time: 1.843075 seconds\n"
     ]
    }
   ],
   "source": [
    "# Capture the start time\n",
    "start_time = time.time()\n",
    "# prediction\n",
    "y_test_pred = Logistic_Model.predict(X_test)\n",
    "# Capture the end time\n",
    "end_time = time.time()\n",
    "\n",
    "# Calculate the prediction time\n",
    "prediction_time = end_time - start_time\n",
    "\n",
    "print(f\"Prediction time: {prediction_time:.6f} seconds\") "
   ]
  },
  {
   "cell_type": "code",
   "execution_count": 21,
   "id": "aecdea9c",
   "metadata": {},
   "outputs": [
    {
     "name": "stdout",
     "output_type": "stream",
     "text": [
      "The size of the Logistic Model is:  48 Bytes\n"
     ]
    }
   ],
   "source": [
    "import sys \n",
    "Logistic_Model = sys.getsizeof(Logistic_Model) \n",
    "print(\"The size of the Logistic Model is: \",Logistic_Model,\"Bytes\") "
   ]
  },
  {
   "cell_type": "code",
   "execution_count": 22,
   "id": "242a07ff",
   "metadata": {},
   "outputs": [
    {
     "name": "stdout",
     "output_type": "stream",
     "text": [
      "Accuracy of logistic regression classifier model is:  0.8764511937108674\n"
     ]
    }
   ],
   "source": [
    "from sklearn.metrics import accuracy_score \n",
    "Logistic_Model_accuracy = accuracy_score(y_test, y_test_pred)\n",
    "print(\"Accuracy of logistic regression classifier model is: \",Logistic_Model_accuracy) "
   ]
  },
  {
   "cell_type": "markdown",
   "id": "c03542f9",
   "metadata": {},
   "source": [
    "## Decision Tree Classifier"
   ]
  },
  {
   "cell_type": "code",
   "execution_count": 23,
   "id": "68651ff5",
   "metadata": {},
   "outputs": [
    {
     "data": {
      "text/plain": [
       "DecisionTreeClassifier()"
      ]
     },
     "execution_count": 23,
     "metadata": {},
     "output_type": "execute_result"
    }
   ],
   "source": [
    "from sklearn.tree import DecisionTreeClassifier\n",
    "\n",
    "Decision_Tree_Model = DecisionTreeClassifier()\n",
    "Decision_Tree_Model.fit(X_train, y_train) "
   ]
  },
  {
   "cell_type": "code",
   "execution_count": 24,
   "id": "4d3421b2",
   "metadata": {},
   "outputs": [
    {
     "name": "stdout",
     "output_type": "stream",
     "text": [
      "Prediction time: 0.476845 seconds\n"
     ]
    }
   ],
   "source": [
    "# Capture the start time\n",
    "start_time = time.time()\n",
    "# prediction\n",
    "y_test_pred = Decision_Tree_Model.predict(X_test)\n",
    "# Capture the end time\n",
    "end_time = time.time()\n",
    "\n",
    "# Calculate the prediction time\n",
    "prediction_time = end_time - start_time\n",
    "\n",
    "print(f\"Prediction time: {prediction_time:.6f} seconds\") "
   ]
  },
  {
   "cell_type": "code",
   "execution_count": 25,
   "id": "80a0978b",
   "metadata": {},
   "outputs": [
    {
     "name": "stdout",
     "output_type": "stream",
     "text": [
      "The size of the DecisionTree classification is:  48 Bytes\n"
     ]
    }
   ],
   "source": [
    "Decision_classification_size = sys.getsizeof(Decision_Tree_Model)\n",
    "print(\"The size of the DecisionTree classification is: \",Decision_classification_size,\"Bytes\")"
   ]
  },
  {
   "cell_type": "code",
   "execution_count": 26,
   "id": "c4ae2496",
   "metadata": {},
   "outputs": [
    {
     "name": "stdout",
     "output_type": "stream",
     "text": [
      "Accuracy of decision tree classifier model is:  0.9478483133397055\n"
     ]
    }
   ],
   "source": [
    "Decision_classification_accuracy=accuracy_score(y_test, y_test_pred)\n",
    "print(\"Accuracy of decision tree classifier model is: \",Decision_classification_accuracy)  "
   ]
  },
  {
   "cell_type": "markdown",
   "id": "ca6d721f",
   "metadata": {},
   "source": [
    "## Random Forest Classifier"
   ]
  },
  {
   "cell_type": "code",
   "execution_count": 27,
   "id": "19b1e3d1",
   "metadata": {},
   "outputs": [
    {
     "data": {
      "text/plain": [
       "RandomForestClassifier()"
      ]
     },
     "execution_count": 27,
     "metadata": {},
     "output_type": "execute_result"
    }
   ],
   "source": [
    "from sklearn.ensemble import RandomForestClassifier\n",
    "RandomForest_Model =RandomForestClassifier()\n",
    "RandomForest_Model.fit(X_train, y_train)  "
   ]
  },
  {
   "cell_type": "code",
   "execution_count": 28,
   "id": "e72579ca",
   "metadata": {},
   "outputs": [
    {
     "name": "stdout",
     "output_type": "stream",
     "text": [
      "Prediction time: 9.006455 seconds\n"
     ]
    }
   ],
   "source": [
    "# Capture the start time\n",
    "start_time = time.time()\n",
    "# prediction\n",
    "y_test_pred = RandomForest_Model.predict(X_test) \n",
    "# Capture the end time\n",
    "end_time = time.time()\n",
    "\n",
    "# Calculate the prediction time\n",
    "prediction_time = end_time - start_time\n",
    "\n",
    "print(f\"Prediction time: {prediction_time:.6f} seconds\")"
   ]
  },
  {
   "cell_type": "code",
   "execution_count": 29,
   "id": "b3b64306",
   "metadata": {},
   "outputs": [
    {
     "name": "stdout",
     "output_type": "stream",
     "text": [
      "The size of the rf_classifier is:  48 Bytes\n"
     ]
    }
   ],
   "source": [
    "RandomForest_classifier_size = sys.getsizeof(RandomForest_Model)\n",
    "print(\"The size of the rf_classifier is: \",RandomForest_classifier_size,\"Bytes\") "
   ]
  },
  {
   "cell_type": "code",
   "execution_count": 30,
   "id": "10103ee0",
   "metadata": {},
   "outputs": [
    {
     "name": "stdout",
     "output_type": "stream",
     "text": [
      "Accuracy of random forest classifier model is:  0.986221043248526\n"
     ]
    }
   ],
   "source": [
    "RandomForest_classifier_accuracy=accuracy_score(y_test, y_test_pred)\n",
    "print(\"Accuracy of random forest classifier model is: \",RandomForest_classifier_accuracy) "
   ]
  },
  {
   "cell_type": "markdown",
   "id": "465a716c",
   "metadata": {},
   "source": [
    "## KNN Model"
   ]
  },
  {
   "cell_type": "code",
   "execution_count": 31,
   "id": "e642b378",
   "metadata": {},
   "outputs": [
    {
     "data": {
      "text/plain": [
       "KNeighborsClassifier()"
      ]
     },
     "execution_count": 31,
     "metadata": {},
     "output_type": "execute_result"
    }
   ],
   "source": [
    "from sklearn.neighbors import KNeighborsClassifier\n",
    "knn_Model=KNeighborsClassifier()\n",
    "knn_Model.fit(X_train,y_train) "
   ]
  },
  {
   "cell_type": "code",
   "execution_count": 32,
   "id": "3260eea2",
   "metadata": {},
   "outputs": [
    {
     "name": "stdout",
     "output_type": "stream",
     "text": [
      "Prediction time: 2057.996789 seconds\n"
     ]
    }
   ],
   "source": [
    "# Capture the start time\n",
    "start_time = time.time()\n",
    "\n",
    "#prediction\n",
    "y_test_pred = knn_Model.predict(X_test) \n",
    "\n",
    "# Capture the end time\n",
    "end_time = time.time()\n",
    "\n",
    "# Calculate the prediction time\n",
    "prediction_time = end_time - start_time\n",
    "\n",
    "print(f\"Prediction time: {prediction_time:.6f} seconds\")"
   ]
  },
  {
   "cell_type": "code",
   "execution_count": 33,
   "id": "fd876271",
   "metadata": {},
   "outputs": [
    {
     "name": "stdout",
     "output_type": "stream",
     "text": [
      "The size of the rf_classifier is:  48 Bytes\n"
     ]
    }
   ],
   "source": [
    "knn_classifier_size = sys.getsizeof(knn_Model)\n",
    "print(\"The size of the rf_classifier is: \",RandomForest_classifier_size,\"Bytes\")"
   ]
  },
  {
   "cell_type": "code",
   "execution_count": 34,
   "id": "29736405",
   "metadata": {},
   "outputs": [
    {
     "name": "stdout",
     "output_type": "stream",
     "text": [
      "Accuracy of KNN classifier model is:  0.9586953486623779\n"
     ]
    }
   ],
   "source": [
    "knn_classifier_accuracy=accuracy_score(y_test, y_test_pred)\n",
    "print(\"Accuracy of KNN classifier model is: \",knn_classifier_accuracy)"
   ]
  },
  {
   "cell_type": "code",
   "execution_count": 35,
   "id": "bc6855f8",
   "metadata": {},
   "outputs": [
    {
     "data": {
      "text/html": [
       "<div>\n",
       "<style scoped>\n",
       "    .dataframe tbody tr th:only-of-type {\n",
       "        vertical-align: middle;\n",
       "    }\n",
       "\n",
       "    .dataframe tbody tr th {\n",
       "        vertical-align: top;\n",
       "    }\n",
       "\n",
       "    .dataframe thead th {\n",
       "        text-align: right;\n",
       "    }\n",
       "</style>\n",
       "<table border=\"1\" class=\"dataframe\">\n",
       "  <thead>\n",
       "    <tr style=\"text-align: right;\">\n",
       "      <th></th>\n",
       "      <th>Model Name</th>\n",
       "      <th>Accuracy</th>\n",
       "    </tr>\n",
       "  </thead>\n",
       "  <tbody>\n",
       "    <tr>\n",
       "      <th>0</th>\n",
       "      <td>KNN</td>\n",
       "      <td>95.869535</td>\n",
       "    </tr>\n",
       "    <tr>\n",
       "      <th>1</th>\n",
       "      <td>Logistic Regression</td>\n",
       "      <td>87.645119</td>\n",
       "    </tr>\n",
       "    <tr>\n",
       "      <th>2</th>\n",
       "      <td>Decision Tree</td>\n",
       "      <td>94.784831</td>\n",
       "    </tr>\n",
       "    <tr>\n",
       "      <th>3</th>\n",
       "      <td>Random Forest</td>\n",
       "      <td>98.622104</td>\n",
       "    </tr>\n",
       "  </tbody>\n",
       "</table>\n",
       "</div>"
      ],
      "text/plain": [
       "            Model Name   Accuracy\n",
       "0                  KNN  95.869535\n",
       "1  Logistic Regression  87.645119\n",
       "2        Decision Tree  94.784831\n",
       "3        Random Forest  98.622104"
      ]
     },
     "execution_count": 35,
     "metadata": {},
     "output_type": "execute_result"
    }
   ],
   "source": [
    "models = ['KNN', 'Logistic Regression', 'Decision Tree', 'Random Forest']\n",
    "accuracies = [knn_classifier_accuracy,Logistic_Model_accuracy,Decision_classification_accuracy,RandomForest_classifier_accuracy]\n",
    "data = {'Model Name': models, 'Accuracy': accuracies}\n",
    "model_df = pd.DataFrame(data)\n",
    "\n",
    "# Multiply the accuracies by 100\n",
    "model_df['Accuracy'] = model_df['Accuracy'] * 100\n",
    "model_df.head()"
   ]
  },
  {
   "cell_type": "code",
   "execution_count": 37,
   "id": "7598da8a",
   "metadata": {},
   "outputs": [
    {
     "data": {
      "image/png": "[encoded data removed]",
      "text/plain": [
       "<Figure size 600x1000 with 1 Axes>"
      ]
     },
     "metadata": {},
     "output_type": "display_data"
    }
   ],
   "source": [
    "import matplotlib.pyplot as plt\n",
    "\n",
    "# Assuming you have a DataFrame named 'model_df' with columns 'Model Name' and 'Accuracy'\n",
    "\n",
    "# Create the bar plot\n",
    "plt.figure(figsize=(6, 10))  # Adjust the figure size to accommodate the vertical bars\n",
    "bars = plt.bar(model_df['Model Name'], model_df['Accuracy'], color=['green', 'blue', 'orange', 'red'])\n",
    "plt.xlabel('Model Name')\n",
    "plt.ylabel('Accuracy (%)')\n",
    "plt.title('Model Accuracies')\n",
    "\n",
    "for bar in bars:\n",
    "    height = bar.get_height()\n",
    "    plt.gca().text(bar.get_x() + bar.get_width() / 2, bar.get_height() + 0.5,\n",
    "                   f'{height:.1f}', ha='center', va='center', color='black')\n",
    "\n",
    "plt.xticks(rotation=45)  # Rotate the x-axis labels for better readability\n",
    "plt.tight_layout()\n",
    "\n",
    "# Show the plot\n",
    "plt.show()"
   ]
  },
  {
   "cell_type": "markdown",
   "id": "6a1ef33a",
   "metadata": {},
   "source": [
    "### Loading models for API using pickle Library"
   ]
  },
  {
   "cell_type": "code",
   "execution_count": 38,
   "id": "daf2f0e8",
   "metadata": {},
   "outputs": [],
   "source": [
    "import pickle \n",
    "pickle.dump(Logistic_Model,open(\"Logistic_Model.sav\",'wb'))\n",
    "pickle.dump(Decision_Tree_Model,open(\"Decision_Tree_Model.sav\",'wb'))\n",
    "pickle.dump(RandomForest_Model,open(\"RandomForest_Model.sav\",'wb'))\n",
    "pickle.dump(knn_Model,open(\"knn_Model.sav\",'wb')) "
   ]
  },
  {
   "cell_type": "markdown",
   "id": "1a02167d",
   "metadata": {},
   "source": [
    "## checking the models if the model are working properly or not by taking small amount of data"
   ]
  },
  {
   "cell_type": "code",
   "execution_count": 51,
   "id": "43cd50c1",
   "metadata": {},
   "outputs": [
    {
     "data": {
      "text/html": [
       "<div>\n",
       "<style scoped>\n",
       "    .dataframe tbody tr th:only-of-type {\n",
       "        vertical-align: middle;\n",
       "    }\n",
       "\n",
       "    .dataframe tbody tr th {\n",
       "        vertical-align: top;\n",
       "    }\n",
       "\n",
       "    .dataframe thead th {\n",
       "        text-align: right;\n",
       "    }\n",
       "</style>\n",
       "<table border=\"1\" class=\"dataframe\">\n",
       "  <thead>\n",
       "    <tr style=\"text-align: right;\">\n",
       "      <th></th>\n",
       "      <th>pixel_0</th>\n",
       "      <th>pixel_1</th>\n",
       "      <th>pixel_2</th>\n",
       "      <th>pixel_3</th>\n",
       "      <th>pixel_4</th>\n",
       "      <th>pixel_5</th>\n",
       "      <th>pixel_6</th>\n",
       "      <th>pixel_7</th>\n",
       "      <th>pixel_8</th>\n",
       "      <th>pixel_9</th>\n",
       "      <th>...</th>\n",
       "      <th>pixel_775</th>\n",
       "      <th>pixel_776</th>\n",
       "      <th>pixel_777</th>\n",
       "      <th>pixel_778</th>\n",
       "      <th>pixel_779</th>\n",
       "      <th>pixel_780</th>\n",
       "      <th>pixel_781</th>\n",
       "      <th>pixel_782</th>\n",
       "      <th>pixel_783</th>\n",
       "      <th>Label</th>\n",
       "    </tr>\n",
       "  </thead>\n",
       "  <tbody>\n",
       "    <tr>\n",
       "      <th>0</th>\n",
       "      <td>0</td>\n",
       "      <td>0</td>\n",
       "      <td>0</td>\n",
       "      <td>0</td>\n",
       "      <td>0</td>\n",
       "      <td>0</td>\n",
       "      <td>0</td>\n",
       "      <td>0</td>\n",
       "      <td>0</td>\n",
       "      <td>0</td>\n",
       "      <td>...</td>\n",
       "      <td>0</td>\n",
       "      <td>0</td>\n",
       "      <td>0</td>\n",
       "      <td>0</td>\n",
       "      <td>0</td>\n",
       "      <td>0</td>\n",
       "      <td>0</td>\n",
       "      <td>0</td>\n",
       "      <td>0</td>\n",
       "      <td>A</td>\n",
       "    </tr>\n",
       "    <tr>\n",
       "      <th>1</th>\n",
       "      <td>0</td>\n",
       "      <td>0</td>\n",
       "      <td>0</td>\n",
       "      <td>0</td>\n",
       "      <td>0</td>\n",
       "      <td>0</td>\n",
       "      <td>0</td>\n",
       "      <td>0</td>\n",
       "      <td>0</td>\n",
       "      <td>0</td>\n",
       "      <td>...</td>\n",
       "      <td>0</td>\n",
       "      <td>0</td>\n",
       "      <td>0</td>\n",
       "      <td>0</td>\n",
       "      <td>0</td>\n",
       "      <td>0</td>\n",
       "      <td>0</td>\n",
       "      <td>0</td>\n",
       "      <td>0</td>\n",
       "      <td>A</td>\n",
       "    </tr>\n",
       "    <tr>\n",
       "      <th>2</th>\n",
       "      <td>0</td>\n",
       "      <td>0</td>\n",
       "      <td>0</td>\n",
       "      <td>0</td>\n",
       "      <td>0</td>\n",
       "      <td>0</td>\n",
       "      <td>0</td>\n",
       "      <td>0</td>\n",
       "      <td>0</td>\n",
       "      <td>0</td>\n",
       "      <td>...</td>\n",
       "      <td>0</td>\n",
       "      <td>0</td>\n",
       "      <td>0</td>\n",
       "      <td>0</td>\n",
       "      <td>0</td>\n",
       "      <td>0</td>\n",
       "      <td>0</td>\n",
       "      <td>0</td>\n",
       "      <td>0</td>\n",
       "      <td>A</td>\n",
       "    </tr>\n",
       "    <tr>\n",
       "      <th>3</th>\n",
       "      <td>0</td>\n",
       "      <td>0</td>\n",
       "      <td>0</td>\n",
       "      <td>0</td>\n",
       "      <td>0</td>\n",
       "      <td>0</td>\n",
       "      <td>0</td>\n",
       "      <td>0</td>\n",
       "      <td>0</td>\n",
       "      <td>0</td>\n",
       "      <td>...</td>\n",
       "      <td>0</td>\n",
       "      <td>0</td>\n",
       "      <td>0</td>\n",
       "      <td>0</td>\n",
       "      <td>0</td>\n",
       "      <td>0</td>\n",
       "      <td>0</td>\n",
       "      <td>0</td>\n",
       "      <td>0</td>\n",
       "      <td>A</td>\n",
       "    </tr>\n",
       "    <tr>\n",
       "      <th>4</th>\n",
       "      <td>0</td>\n",
       "      <td>0</td>\n",
       "      <td>0</td>\n",
       "      <td>0</td>\n",
       "      <td>0</td>\n",
       "      <td>0</td>\n",
       "      <td>0</td>\n",
       "      <td>0</td>\n",
       "      <td>0</td>\n",
       "      <td>0</td>\n",
       "      <td>...</td>\n",
       "      <td>0</td>\n",
       "      <td>0</td>\n",
       "      <td>0</td>\n",
       "      <td>0</td>\n",
       "      <td>0</td>\n",
       "      <td>0</td>\n",
       "      <td>0</td>\n",
       "      <td>0</td>\n",
       "      <td>0</td>\n",
       "      <td>A</td>\n",
       "    </tr>\n",
       "    <tr>\n",
       "      <th>...</th>\n",
       "      <td>...</td>\n",
       "      <td>...</td>\n",
       "      <td>...</td>\n",
       "      <td>...</td>\n",
       "      <td>...</td>\n",
       "      <td>...</td>\n",
       "      <td>...</td>\n",
       "      <td>...</td>\n",
       "      <td>...</td>\n",
       "      <td>...</td>\n",
       "      <td>...</td>\n",
       "      <td>...</td>\n",
       "      <td>...</td>\n",
       "      <td>...</td>\n",
       "      <td>...</td>\n",
       "      <td>...</td>\n",
       "      <td>...</td>\n",
       "      <td>...</td>\n",
       "      <td>...</td>\n",
       "      <td>...</td>\n",
       "      <td>...</td>\n",
       "    </tr>\n",
       "    <tr>\n",
       "      <th>19995</th>\n",
       "      <td>0</td>\n",
       "      <td>0</td>\n",
       "      <td>0</td>\n",
       "      <td>0</td>\n",
       "      <td>0</td>\n",
       "      <td>0</td>\n",
       "      <td>0</td>\n",
       "      <td>0</td>\n",
       "      <td>0</td>\n",
       "      <td>0</td>\n",
       "      <td>...</td>\n",
       "      <td>0</td>\n",
       "      <td>0</td>\n",
       "      <td>0</td>\n",
       "      <td>0</td>\n",
       "      <td>0</td>\n",
       "      <td>0</td>\n",
       "      <td>0</td>\n",
       "      <td>0</td>\n",
       "      <td>0</td>\n",
       "      <td>B</td>\n",
       "    </tr>\n",
       "    <tr>\n",
       "      <th>19996</th>\n",
       "      <td>0</td>\n",
       "      <td>0</td>\n",
       "      <td>0</td>\n",
       "      <td>0</td>\n",
       "      <td>0</td>\n",
       "      <td>0</td>\n",
       "      <td>0</td>\n",
       "      <td>0</td>\n",
       "      <td>0</td>\n",
       "      <td>0</td>\n",
       "      <td>...</td>\n",
       "      <td>0</td>\n",
       "      <td>0</td>\n",
       "      <td>0</td>\n",
       "      <td>0</td>\n",
       "      <td>0</td>\n",
       "      <td>0</td>\n",
       "      <td>0</td>\n",
       "      <td>0</td>\n",
       "      <td>0</td>\n",
       "      <td>B</td>\n",
       "    </tr>\n",
       "    <tr>\n",
       "      <th>19997</th>\n",
       "      <td>0</td>\n",
       "      <td>0</td>\n",
       "      <td>0</td>\n",
       "      <td>0</td>\n",
       "      <td>0</td>\n",
       "      <td>0</td>\n",
       "      <td>0</td>\n",
       "      <td>0</td>\n",
       "      <td>0</td>\n",
       "      <td>0</td>\n",
       "      <td>...</td>\n",
       "      <td>0</td>\n",
       "      <td>0</td>\n",
       "      <td>0</td>\n",
       "      <td>0</td>\n",
       "      <td>0</td>\n",
       "      <td>0</td>\n",
       "      <td>0</td>\n",
       "      <td>0</td>\n",
       "      <td>0</td>\n",
       "      <td>B</td>\n",
       "    </tr>\n",
       "    <tr>\n",
       "      <th>19998</th>\n",
       "      <td>0</td>\n",
       "      <td>0</td>\n",
       "      <td>0</td>\n",
       "      <td>0</td>\n",
       "      <td>0</td>\n",
       "      <td>0</td>\n",
       "      <td>0</td>\n",
       "      <td>0</td>\n",
       "      <td>0</td>\n",
       "      <td>0</td>\n",
       "      <td>...</td>\n",
       "      <td>0</td>\n",
       "      <td>0</td>\n",
       "      <td>0</td>\n",
       "      <td>0</td>\n",
       "      <td>0</td>\n",
       "      <td>0</td>\n",
       "      <td>0</td>\n",
       "      <td>0</td>\n",
       "      <td>0</td>\n",
       "      <td>B</td>\n",
       "    </tr>\n",
       "    <tr>\n",
       "      <th>19999</th>\n",
       "      <td>0</td>\n",
       "      <td>0</td>\n",
       "      <td>0</td>\n",
       "      <td>0</td>\n",
       "      <td>0</td>\n",
       "      <td>0</td>\n",
       "      <td>0</td>\n",
       "      <td>0</td>\n",
       "      <td>0</td>\n",
       "      <td>0</td>\n",
       "      <td>...</td>\n",
       "      <td>0</td>\n",
       "      <td>0</td>\n",
       "      <td>0</td>\n",
       "      <td>0</td>\n",
       "      <td>0</td>\n",
       "      <td>0</td>\n",
       "      <td>0</td>\n",
       "      <td>0</td>\n",
       "      <td>0</td>\n",
       "      <td>B</td>\n",
       "    </tr>\n",
       "  </tbody>\n",
       "</table>\n",
       "<p>20000 rows × 785 columns</p>\n",
       "</div>"
      ],
      "text/plain": [
       "       pixel_0  pixel_1  pixel_2  pixel_3  pixel_4  pixel_5  pixel_6  pixel_7  \\\n",
       "0            0        0        0        0        0        0        0        0   \n",
       "1            0        0        0        0        0        0        0        0   \n",
       "2            0        0        0        0        0        0        0        0   \n",
       "3            0        0        0        0        0        0        0        0   \n",
       "4            0        0        0        0        0        0        0        0   \n",
       "...        ...      ...      ...      ...      ...      ...      ...      ...   \n",
       "19995        0        0        0        0        0        0        0        0   \n",
       "19996        0        0        0        0        0        0        0        0   \n",
       "19997        0        0        0        0        0        0        0        0   \n",
       "19998        0        0        0        0        0        0        0        0   \n",
       "19999        0        0        0        0        0        0        0        0   \n",
       "\n",
       "       pixel_8  pixel_9  ...  pixel_775  pixel_776  pixel_777  pixel_778  \\\n",
       "0            0        0  ...          0          0          0          0   \n",
       "1            0        0  ...          0          0          0          0   \n",
       "2            0        0  ...          0          0          0          0   \n",
       "3            0        0  ...          0          0          0          0   \n",
       "4            0        0  ...          0          0          0          0   \n",
       "...        ...      ...  ...        ...        ...        ...        ...   \n",
       "19995        0        0  ...          0          0          0          0   \n",
       "19996        0        0  ...          0          0          0          0   \n",
       "19997        0        0  ...          0          0          0          0   \n",
       "19998        0        0  ...          0          0          0          0   \n",
       "19999        0        0  ...          0          0          0          0   \n",
       "\n",
       "       pixel_779  pixel_780  pixel_781  pixel_782  pixel_783  Label  \n",
       "0              0          0          0          0          0      A  \n",
       "1              0          0          0          0          0      A  \n",
       "2              0          0          0          0          0      A  \n",
       "3              0          0          0          0          0      A  \n",
       "4              0          0          0          0          0      A  \n",
       "...          ...        ...        ...        ...        ...    ...  \n",
       "19995          0          0          0          0          0      B  \n",
       "19996          0          0          0          0          0      B  \n",
       "19997          0          0          0          0          0      B  \n",
       "19998          0          0          0          0          0      B  \n",
       "19999          0          0          0          0          0      B  \n",
       "\n",
       "[20000 rows x 785 columns]"
      ]
     },
     "execution_count": 51,
     "metadata": {},
     "output_type": "execute_result"
    }
   ],
   "source": [
    "import numpy as np\n",
    "import pandas as pd\n",
    "import matplotlib.pyplot as plt\n",
    "from sklearn.model_selection import train_test_split\n",
    "from sklearn.linear_model import LogisticRegression\n",
    "from sklearn.preprocessing import LabelEncoder\n",
    "\n",
    "subset_size = 20000\n",
    "# Load MNIST data from CSV file\n",
    "df = pd.read_csv(r\"C:/Users/sss/Desktop/CV_DATA.csv\",nrows=subset_size)\n",
    "\n",
    "df "
   ]
  },
  {
   "cell_type": "code",
   "execution_count": 52,
   "id": "52a38def",
   "metadata": {},
   "outputs": [
    {
     "name": "stdout",
     "output_type": "stream",
     "text": [
      "Label\n",
      "A    13870\n",
      "B     6130\n",
      "Name: count, dtype: int64\n"
     ]
    }
   ],
   "source": [
    "print(df['Label'].value_counts())"
   ]
  },
  {
   "cell_type": "markdown",
   "id": "e2f97e2f",
   "metadata": {},
   "source": [
    "### Logistic regression"
   ]
  },
  {
   "cell_type": "code",
   "execution_count": 59,
   "id": "75615cae",
   "metadata": {},
   "outputs": [
    {
     "data": {
      "image/png": "[encoded data removed]",
      "text/plain": [
       "<Figure size 1500x200 with 10 Axes>"
      ]
     },
     "metadata": {},
     "output_type": "display_data"
    }
   ],
   "source": [
    "# Convert pixel values to integers and labels to alphabets (A to Z)\n",
    "X = df.drop('Label', axis=1).values.astype('int')\n",
    "y = df['Label'].values\n",
    "\n",
    "# Encode alphabet labels to integers using LabelEncoder\n",
    "label_encoder = LabelEncoder()\n",
    "y = label_encoder.fit_transform(y)\n",
    "\n",
    "# Split the data into training and testing sets\n",
    "X_train, X_test, y_train, y_test = train_test_split(X, y, test_size=0.2, random_state=42)\n",
    "\n",
    "# Initialize and train the Logistic Regression model\n",
    "classifier = LogisticRegression(max_iter=1000)  # You can adjust max_iter depending on convergence\n",
    "classifier.fit(X_train, y_train)\n",
    "\n",
    "# Make predictions on the test set\n",
    "y_pred = classifier.predict(X_test)\n",
    "\n",
    "# Convert back the encoded labels to original alphabet labels\n",
    "y_pred_labels = label_encoder.inverse_transform(y_pred)\n",
    "\n",
    "# Visualize a sample of test images with their predicted labels\n",
    "num_samples = 10\n",
    "fig, axs = plt.subplots(1, num_samples, figsize=(15, 2))\n",
    "\n",
    "for i in range(num_samples):\n",
    "    img = X_test[i].reshape(28, 28)  # Resize the image to its original dimensions for visualization\n",
    "    axs[i].imshow(img, cmap='viridis')\n",
    "    axs[i].set_title(f\"Pred: {y_pred_labels[i]}\")\n",
    "\n",
    "plt.show()\n"
   ]
  },
  {
   "cell_type": "markdown",
   "id": "edddd7ab",
   "metadata": {},
   "source": [
    "### Decision Tree classifier"
   ]
  },
  {
   "cell_type": "code",
   "execution_count": 60,
   "id": "44997398",
   "metadata": {},
   "outputs": [
    {
     "data": {
      "image/png": "[encoded data removed]",
      "text/plain": [
       "<Figure size 1500x200 with 10 Axes>"
      ]
     },
     "metadata": {},
     "output_type": "display_data"
    }
   ],
   "source": [
    "from sklearn.tree import DecisionTreeClassifier\n",
    "# Initialize and train the Logistic Regression model\n",
    "Decision_Tree_Model = DecisionTreeClassifier()\n",
    "Decision_Tree_Model.fit(X_train, y_train)\n",
    "\n",
    "# Make predictions on the test set\n",
    "y_pred = Decision_Tree_Model.predict(X_test)\n",
    "\n",
    "# Convert back the encoded labels to original alphabet labels\n",
    "y_pred_labels = label_encoder.inverse_transform(y_pred)\n",
    "\n",
    "# Visualize a sample of test images with their predicted labels\n",
    "num_samples = 10\n",
    "fig, axs = plt.subplots(1, num_samples, figsize=(15, 2))\n",
    "\n",
    "for i in range(num_samples):\n",
    "    img = X_test[i].reshape(28, 28)  # Resize the image to its original dimensions for visualization\n",
    "    axs[i].imshow(img, cmap='viridis')\n",
    "    axs[i].set_title(f\"Pred: {y_pred_labels[i]}\")\n",
    "\n",
    "plt.show() \n"
   ]
  },
  {
   "cell_type": "markdown",
   "id": "c27568b2",
   "metadata": {},
   "source": [
    "### Random Forest classifier"
   ]
  },
  {
   "cell_type": "code",
   "execution_count": 61,
   "id": "66a2291d",
   "metadata": {},
   "outputs": [
    {
     "data": {
      "image/png": "[encoded data removed]",
      "text/plain": [
       "<Figure size 1500x200 with 10 Axes>"
      ]
     },
     "metadata": {},
     "output_type": "display_data"
    }
   ],
   "source": [
    "from sklearn.ensemble import RandomForestClassifier\n",
    "RandomForest_Model =RandomForestClassifier()\n",
    "RandomForest_Model.fit(X_train, y_train) \n",
    "# Make predictions on the test set\n",
    "y_pred = RandomForest_Model.predict(X_test)\n",
    "\n",
    "# Convert back the encoded labels to original alphabet labels\n",
    "y_pred_labels = label_encoder.inverse_transform(y_pred)\n",
    "\n",
    "# Visualize a sample of test images with their predicted labels\n",
    "num_samples = 10\n",
    "fig, axs = plt.subplots(1, num_samples, figsize=(15, 2))\n",
    "\n",
    "for i in range(num_samples):\n",
    "    img = X_test[i].reshape(28, 28)  # Resize the image to its original dimensions for visualization\n",
    "    axs[i].imshow(img, cmap='viridis') \n",
    "    axs[i].set_title(f\"Pred: {y_pred_labels[i]}\")\n",
    "\n",
    "plt.show() "
   ]
  },
  {
   "cell_type": "markdown",
   "id": "3ab64024",
   "metadata": {},
   "source": [
    "### KNN Classifier"
   ]
  },
  {
   "cell_type": "code",
   "execution_count": 58,
   "id": "4a673677",
   "metadata": {},
   "outputs": [
    {
     "data": {
      "image/png": "[encoded data removed]",
      "text/plain": [
       "<Figure size 1500x200 with 10 Axes>"
      ]
     },
     "metadata": {},
     "output_type": "display_data"
    }
   ],
   "source": [
    "from sklearn.neighbors import KNeighborsClassifier\n",
    "knn_Model=KNeighborsClassifier()\n",
    "knn_Model.fit(X_train,y_train) \n",
    "\n",
    "# Make predictions on the test set\n",
    "y_pred = knn_Model.predict(X_test)\n",
    "\n",
    "# Convert back the encoded labels to original alphabet labels\n",
    "y_pred_labels = label_encoder.inverse_transform(y_pred)\n",
    "\n",
    "# Visualize a sample of test images with their predicted labels\n",
    "num_samples = 10\n",
    "fig, axs = plt.subplots(1, num_samples, figsize=(15, 2))\n",
    "\n",
    "for i in range(num_samples):\n",
    "    img = X_test[i].reshape(28, 28)  # Resize the image to its original dimensions for visualization\n",
    "    axs[i].imshow(img, cmap='viridis')\n",
    "    axs[i].set_title(f\"Pred: {y_pred_labels[i]}\")\n",
    "\n",
    "plt.show() "
   ]
  },
  {
   "cell_type": "code",
   "execution_count": null,
   "id": "737c23b8",
   "metadata": {},
   "outputs": [],
   "source": []
  }
 ],
 "metadata": {
  "kernelspec": {
   "display_name": "Python 3 (ipykernel)",
   "language": "python",
   "name": "python3"
  },
  "language_info": {
   "codemirror_mode": {
    "name": "ipython",
    "version": 3
   },
   "file_extension": ".py",
   "mimetype": "text/x-python",
   "name": "python",
   "nbconvert_exporter": "python",
   "pygments_lexer": "ipython3",
   "version": "3.9.13"
  }
 },
 "nbformat": 4,
 "nbformat_minor": 5
}
